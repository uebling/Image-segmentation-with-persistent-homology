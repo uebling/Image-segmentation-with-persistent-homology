{
 "cells": [
  {
   "cell_type": "markdown",
   "id": "19436384",
   "metadata": {},
   "source": [
    "# Image segmentation using persistent homology\n",
    "\n",
    "With this document you can play around with image segmentation using a persistent homology algorithm."
   ]
  },
  {
   "cell_type": "code",
   "execution_count": 1,
   "id": "1de21d48",
   "metadata": {},
   "outputs": [],
   "source": [
    "# Standard data libraries\n",
    "import numpy as np \n",
    "from ipywidgets import widgets, interact, interactive, fixed, interact_manual, Layout\n",
    "import ipywidgets as widgets\n",
    "from IPython.display import display\n",
    "\n",
    "# My favourite plotting libraries\n",
    "%matplotlib inline\n",
    "import matplotlib.pyplot as plt\n",
    "\n",
    "#To manipulate images\n",
    "import cv2\n",
    "import scipy\n",
    "from scipy import ndimage\n",
    "import io\n",
    "from PIL import Image\n",
    "\n",
    "from persim import plot_diagrams\n",
    "from ripser import ripser, lower_star_img\n",
    "\n",
    "#Switch on for deployment on Binder beacuse of memory limitations\n",
    "resize = True\n",
    "max_size = 1280"
   ]
  },
  {
   "cell_type": "code",
   "execution_count": 2,
   "id": "93af0ad5",
   "metadata": {},
   "outputs": [],
   "source": [
    "def manipulate_image(upl,channel='grey',blur=1,inv=False,example=\"Cells\"):\n",
    "    global img\n",
    "    global smoothed\n",
    "    \n",
    "    if example == 'Cells':\n",
    "        img = plt.imread(\"Cells.jpg\")\n",
    "    elif example == 'Gannets':\n",
    "        img = plt.imread('Gannets.jpg')\n",
    "    elif example == 'Blossoms':\n",
    "        img = plt.imread('Blossoms.jpg')\n",
    "    elif example == 'Cats':\n",
    "        img = plt.imread('Cats.jpg')\n",
    "    elif example == 'Trees':\n",
    "        img = plt.imread('Trees.jpg')\n",
    "    elif example == 'Uploaded File':\n",
    "        if upl != {}:\n",
    "            for name, file_info in upl.items():\n",
    "                pil_img = Image.open(io.BytesIO(file_info['content']))\n",
    "                img = np.array(pil_img)\n",
    "\n",
    "    if max(img.shape) > max_size:\n",
    "        scale = max_size/max(img.shape)\n",
    "        new_width = int(img.shape[1] * scale)\n",
    "        new_height = int(img.shape[0] * scale)\n",
    "        dim = (new_width, new_height)\n",
    "  \n",
    "        img = cv2.resize(img, dim, interpolation = cv2.INTER_AREA)       \n",
    "    \n",
    "    grey = cv2.cvtColor(img, cv2.COLOR_BGR2GRAY)\n",
    "    grey = cv2.equalizeHist(grey)\n",
    "\n",
    "    red = img[:,:,2]\n",
    "    red = cv2.equalizeHist(red)\n",
    "\n",
    "    green = img[:,:,1]\n",
    "    green = cv2.equalizeHist(green)\n",
    "\n",
    "    blue = img[:,:,0]\n",
    "    blue = cv2.equalizeHist(blue)\n",
    "        \n",
    "    \n",
    "    if channel == 'grey':   \n",
    "        image = cv2.blur(grey,(blur,blur))\n",
    "        cmap = 'Greys'\n",
    "    elif channel == 'red':\n",
    "        image = cv2.blur(red,(blur,blur)) \n",
    "        cmap = 'Reds'\n",
    "    elif channel == 'green':\n",
    "        image = cv2.blur(green,(blur,blur))\n",
    "        cmap = 'Greens'\n",
    "    elif channel == 'blue':\n",
    "        image = cv2.blur(blue,(blur,blur)) \n",
    "        cmap = 'Blues'\n",
    "        \n",
    "\n",
    "    smoothed = ndimage.uniform_filter(image.astype(np.float64), size=10)\n",
    "    smoothed += 0.01 * np.random.randn(*smoothed.shape)\n",
    "    \n",
    "    if inv == True:\n",
    "        smoothed = -smoothed\n",
    "    \n",
    "    plt.figure(figsize=(8, 6))\n",
    "    plt.imshow(-smoothed,aspect='auto',cmap = cmap)\n",
    "    plt.show()\n"
   ]
  },
  {
   "cell_type": "code",
   "execution_count": 3,
   "id": "35b53fc4",
   "metadata": {},
   "outputs": [],
   "source": [
    "def make_diagram(b,show=True):\n",
    "    global dgm\n",
    "    with output:\n",
    "        plt.close()\n",
    "        dgm = lower_star_img(-smoothed)\n",
    "\n",
    "        if show == True:\n",
    "            plt.figure(figsize=(6, 6))\n",
    "            plot_diagrams(dgm, lifetime=True)\n",
    "            plt.show()\n",
    "    "
   ]
  },
  {
   "cell_type": "code",
   "execution_count": 4,
   "id": "86a24494",
   "metadata": {},
   "outputs": [],
   "source": [
    "def segment(threshold=50):\n",
    "\n",
    "    idxs = np.arange(dgm.shape[0])\n",
    "    idxs = idxs[np.abs(dgm[:, 1] - dgm[:, 0]) > threshold]\n",
    "\n",
    "    plt.figure(figsize=(10, 8))\n",
    "    plt.imshow(img)\n",
    "\n",
    "    X, Y = np.meshgrid(np.arange(smoothed.shape[1]), np.arange(smoothed.shape[0]))\n",
    "    X = X.flatten()\n",
    "    Y = Y.flatten()\n",
    "    for idx in idxs:\n",
    "        bidx = np.argmin(np.abs(smoothed + dgm[idx, 0]))\n",
    "        plt.scatter(X[bidx], Y[bidx], 20, 'red')\n",
    "    plt.axis('off')\n",
    "\n",
    "    plt.show()\n",
    "#plt.savefig('trees_dots.jpg')"
   ]
  },
  {
   "cell_type": "markdown",
   "id": "0085a27e",
   "metadata": {},
   "source": [
    "Here, you can upload your own image file to replace the default image. **With the current version, the image must be a color image!** The alogrithm needs a greyscale input, so choose either a greyscale conversion or one of the color channels. Blurring the image might improve the results, as noise is reduced. By default, the algorith searches for bright spots, if the features you want to find are dark, invert the picture."
   ]
  },
  {
   "cell_type": "code",
   "execution_count": 5,
   "id": "c287c2f6",
   "metadata": {},
   "outputs": [
    {
     "data": {
      "application/vnd.jupyter.widget-view+json": {
       "model_id": "1793e412108e4b969d2d3a04878e8cd9",
       "version_major": 2,
       "version_minor": 0
      },
      "text/plain": [
       "HBox(children=(VBox(children=(ToggleButtons(description='Images:', options=('Cells', 'Gannets', 'Blossoms', 'C…"
      ]
     },
     "metadata": {},
     "output_type": "display_data"
    },
    {
     "data": {
      "application/vnd.jupyter.widget-view+json": {
       "model_id": "ea1b8d59f6544e6bb0da3db1536ee5b0",
       "version_major": 2,
       "version_minor": 0
      },
      "text/plain": [
       "Output()"
      ]
     },
     "metadata": {},
     "output_type": "display_data"
    }
   ],
   "source": [
    "w0 = widgets.FileUpload(multiple=False)\n",
    "w1 = widgets.RadioButtons(options=['grey','red', 'green', 'blue'],description='Color:',disabled=False)\n",
    "w2 = widgets.IntSlider(value=1, min=1, max=100, step=1, description='Blur:',continuous_update=False)\n",
    "w3 = widgets.Checkbox(value=False, description='Invert image', disabled=False, indent=False)\n",
    "w4 = widgets.ToggleButtons(options=['Cells', 'Gannets', 'Blossoms', 'Cats', 'Trees','Uploaded File'],\n",
    "    description='Images:',\n",
    "    disabled=False)\n",
    "\n",
    "w40 = widgets.VBox([w4,w0])\n",
    "w23 = widgets.VBox([w3,w2])\n",
    "ui = widgets.HBox([w40, w1, w23])\n",
    "out = widgets.interactive_output(manipulate_image, {'upl': w0, 'channel': w1, 'blur': w2, 'inv': w3,'example': w4})\n",
    "\n",
    "display(ui, out)"
   ]
  },
  {
   "cell_type": "markdown",
   "id": "6659b77b",
   "metadata": {},
   "source": [
    "# Persistence diagram\n",
    "\n",
    "The persistence diagram shows how long features survive if a threshold is run through the image. Points at the bottom are very short-lived and essentially noise. If the diagram for your image shows a distinct cloud somewhere above the x-axis, these are the features you might want to find. Use this diagram to select a threshold (Lifetime value) for the next step, so that only features with a lifetime above this threshold are marked below.\n",
    "\n",
    "Every time you change the image above, press the button to generate a new diagram. This is not done automatically, as it might take some time."
   ]
  },
  {
   "cell_type": "code",
   "execution_count": 6,
   "id": "2ff106b0",
   "metadata": {},
   "outputs": [
    {
     "data": {
      "application/vnd.jupyter.widget-view+json": {
       "model_id": "d936ac9d86cb40bcab4f577c22f14fbd",
       "version_major": 2,
       "version_minor": 0
      },
      "text/plain": [
       "Button(description='Generate new persistence diagram', layout=Layout(height='80px', width='50%'), style=Button…"
      ]
     },
     "metadata": {},
     "output_type": "display_data"
    },
    {
     "data": {
      "application/vnd.jupyter.widget-view+json": {
       "model_id": "abc31d604b814e2daccfd2e1403f94f5",
       "version_major": 2,
       "version_minor": 0
      },
      "text/plain": [
       "Output()"
      ]
     },
     "metadata": {},
     "output_type": "display_data"
    }
   ],
   "source": [
    "button = widgets.Button(description=\"Generate new persistence diagram\",layout=Layout(width='50%', height='80px'))\n",
    "output = widgets.Output()\n",
    "\n",
    "make_diagram(0,False)\n",
    "\n",
    "\n",
    "display(button, output)\n",
    "\n",
    "button.on_click(make_diagram)"
   ]
  },
  {
   "cell_type": "markdown",
   "id": "b3f9a8bf",
   "metadata": {},
   "source": [
    "# Thresholding\n",
    "\n",
    "Play with the threshold value here to see for which value the algorithm is best. All features above the threshold in the persistence diagram are shown. Set the threshold too low and lots of noise gets selected."
   ]
  },
  {
   "cell_type": "code",
   "execution_count": 7,
   "id": "32986536",
   "metadata": {},
   "outputs": [
    {
     "data": {
      "application/vnd.jupyter.widget-view+json": {
       "model_id": "af9efd8d2f9e4c679257ca3ab74933c8",
       "version_major": 2,
       "version_minor": 0
      },
      "text/plain": [
       "interactive(children=(IntSlider(value=50, continuous_update=False, description='threshold', max=255, min=1), O…"
      ]
     },
     "metadata": {},
     "output_type": "display_data"
    }
   ],
   "source": [
    "interact(segment,threshold = widgets.IntSlider(value = 50, min = 1, max = 255, continuous_update=False));"
   ]
  },
  {
   "cell_type": "code",
   "execution_count": null,
   "id": "39142888",
   "metadata": {},
   "outputs": [],
   "source": []
  },
  {
   "cell_type": "code",
   "execution_count": null,
   "id": "b1b328a4",
   "metadata": {},
   "outputs": [],
   "source": []
  },
  {
   "cell_type": "code",
   "execution_count": null,
   "id": "1ce2250c",
   "metadata": {},
   "outputs": [],
   "source": [
    "\n"
   ]
  }
 ],
 "metadata": {
  "kernelspec": {
   "display_name": "Python 3",
   "language": "python",
   "name": "python3"
  },
  "language_info": {
   "codemirror_mode": {
    "name": "ipython",
    "version": 3
   },
   "file_extension": ".py",
   "mimetype": "text/x-python",
   "name": "python",
   "nbconvert_exporter": "python",
   "pygments_lexer": "ipython3",
   "version": "3.8.10"
  }
 },
 "nbformat": 4,
 "nbformat_minor": 5
}
