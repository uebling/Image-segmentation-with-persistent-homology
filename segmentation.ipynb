{
 "cells": [
  {
   "cell_type": "markdown",
   "id": "19436384",
   "metadata": {},
   "source": [
    "# Image segmentation using persistent homology\n",
    "\n",
    "With this document you can play around with image segmentation using a persistent homology algorithm."
   ]
  },
  {
   "cell_type": "code",
   "execution_count": 8,
   "id": "1de21d48",
   "metadata": {},
   "outputs": [],
   "source": [
    "# Standard data libraries\n",
    "import numpy as np \n",
    "from ipywidgets import widgets, interact, interactive, fixed, interact_manual, Layout\n",
    "import ipywidgets as widgets\n",
    "from IPython.display import display\n",
    "\n",
    "# My favourite plotting libraries\n",
    "%matplotlib inline\n",
    "import matplotlib.pyplot as plt\n",
    "import matplotlib.gridspec as gridspec\n",
    "\n",
    "#To manipulate images\n",
    "import cv2\n",
    "import scipy\n",
    "from scipy import ndimage\n",
    "import io\n",
    "from PIL import Image\n",
    "\n",
    "from persim import plot_diagrams\n",
    "from ripser import ripser, lower_star_img\n",
    "\n",
    "#Switch on for deployment on Binder beacuse of memory limitations\n",
    "resize = True\n",
    "max_size = 1280"
   ]
  },
  {
   "cell_type": "code",
   "execution_count": 10,
   "id": "93af0ad5",
   "metadata": {},
   "outputs": [],
   "source": [
    "def manipulate_image(upl,channel='grey',blur=1,inv=False,example=\"Cells\"):\n",
    "    global img\n",
    "    global smoothed\n",
    "    \n",
    "    if example == 'Cells':\n",
    "        img = plt.imread(\"Cells.jpg\")\n",
    "    elif example == 'Gannets':\n",
    "        img = plt.imread('Gannets.jpg')\n",
    "    elif example == 'Blossoms':\n",
    "        img = plt.imread('Blossoms.jpg')\n",
    "    elif example == 'Cats':\n",
    "        img = plt.imread('Cats.jpg')\n",
    "    elif example == 'Trees':\n",
    "        img = plt.imread('Trees.jpg')\n",
    "    elif example == 'Uploaded File':\n",
    "        if upl != {}:\n",
    "            for name, file_info in upl.items():\n",
    "                pil_img = Image.open(io.BytesIO(file_info['content']))\n",
    "                img = np.array(pil_img)\n",
    "    if resize == True:\n",
    "        if max(img.shape) > max_size:\n",
    "            scale = max_size/max(img.shape)\n",
    "            new_width = int(img.shape[1] * scale)\n",
    "            new_height = int(img.shape[0] * scale)\n",
    "            dim = (new_width, new_height)\n",
    "            img = cv2.resize(img, dim, interpolation = cv2.INTER_AREA)       \n",
    "    \n",
    "    if blur > 0:\n",
    "        image = cv2.blur(img,(blur,blur))   \n",
    "    \n",
    "    if channel == 'grey':   \n",
    "        image = cv2.cvtColor(image, cv2.COLOR_BGR2GRAY)\n",
    "        image = cv2.equalizeHist(image)\n",
    "        cmap = 'Greys'\n",
    "    elif channel == 'red':\n",
    "        image = image[:,:,2]\n",
    "        image = cv2.equalizeHist(image)\n",
    "        cmap = 'Reds'\n",
    "    elif channel == 'green':\n",
    "        image = image[:,:,1]\n",
    "        image = cv2.equalizeHist(image)\n",
    "        cmap = 'Greens'\n",
    "    elif channel == 'blue':\n",
    "        image = image[:,:,0]\n",
    "        image = cv2.equalizeHist(image)\n",
    "        cmap = 'Blues'\n",
    "        \n",
    "\n",
    "    smoothed = ndimage.uniform_filter(image.astype(np.float64), size=10)\n",
    "    smoothed += 0.01 * np.random.randn(*smoothed.shape)\n",
    "    \n",
    "    if inv == True:\n",
    "        smoothed = -smoothed\n",
    "    \n",
    "    plt.figure(figsize=(8, 4))\n",
    "    plt.subplot(1,2,1)\n",
    "    plt.title(\"Original Image\")\n",
    "    plt.imshow(img,aspect = 'auto')\n",
    "#    plt.show()    \n",
    "    plt.subplot(1,2,2)    \n",
    "    plt.title(\"Image used for thresholding\")\n",
    "    plt.imshow(-smoothed,aspect='auto',cmap = cmap)\n",
    "    plt.show()\n"
   ]
  },
  {
   "cell_type": "code",
   "execution_count": 11,
   "id": "35b53fc4",
   "metadata": {},
   "outputs": [],
   "source": [
    "def make_diagram(b):\n",
    "    global dgm\n",
    "    with output:\n",
    "        dgm = lower_star_img(-smoothed)\n",
    "        print(\"Diagram generated! Please continue below.\")\n",
    "        \n",
    "    "
   ]
  },
  {
   "cell_type": "code",
   "execution_count": 12,
   "id": "86a24494",
   "metadata": {},
   "outputs": [],
   "source": [
    "def segment(threshold=50):\n",
    "    \n",
    "    gs = gridspec.GridSpec(1, 2,width_ratios=[1,3])\n",
    "    \n",
    "    plt.figure(figsize=(12, 6))\n",
    "    plt.subplot(gs[0])\n",
    "    plot_diagrams(dgm, lifetime=True)\n",
    "    plt.hlines(threshold,-255,0,colors='red')\n",
    "    plt.fill_between([-255,0], threshold,255,color='r',alpha=.25)\n",
    "    #plt.show()\n",
    "    \n",
    "    \n",
    "    \n",
    "    idxs = np.arange(dgm.shape[0])\n",
    "    idxs = idxs[np.abs(dgm[:, 1] - dgm[:, 0]) > threshold]\n",
    "\n",
    "    \n",
    "    #plt.figure(figsize=(10, 4))\n",
    "    plt.subplot(gs[1])\n",
    "    plt.imshow(img)\n",
    "\n",
    "    X, Y = np.meshgrid(np.arange(smoothed.shape[1]), np.arange(smoothed.shape[0]))\n",
    "    X = X.flatten()\n",
    "    Y = Y.flatten()\n",
    "\n",
    "    \n",
    "    for idx in idxs:\n",
    "        bidx = np.argmin(np.abs(smoothed + dgm[idx, 0]))\n",
    "        plt.scatter(X[bidx], Y[bidx], 20, 'red')\n",
    "    plt.axis('off')\n",
    "#    plt.subplot(1,2,1)\n",
    "    plt.show()\n",
    "#plt.savefig('trees_dots.jpg')"
   ]
  },
  {
   "cell_type": "markdown",
   "id": "0085a27e",
   "metadata": {},
   "source": [
    "Here, you can upload your own image file to replace the default image. **With the current version, the image must be a color image!** The alogrithm needs a greyscale input, so choose either a greyscale conversion or one of the color channels. Blurring the image might improve the results, as noise is reduced. By default, the algorith searches for bright spots, if the features you want to find are dark, invert the picture."
   ]
  },
  {
   "cell_type": "code",
   "execution_count": 13,
   "id": "c287c2f6",
   "metadata": {},
   "outputs": [
    {
     "data": {
      "application/vnd.jupyter.widget-view+json": {
       "model_id": "656fedee309342c39e6c6d2245984853",
       "version_major": 2,
       "version_minor": 0
      },
      "text/plain": [
       "HBox(children=(VBox(children=(ToggleButtons(description='Images:', options=('Cells', 'Gannets', 'Blossoms', 'C…"
      ]
     },
     "metadata": {},
     "output_type": "display_data"
    },
    {
     "data": {
      "application/vnd.jupyter.widget-view+json": {
       "model_id": "f7f32318bdc14e69be7f250397038ceb",
       "version_major": 2,
       "version_minor": 0
      },
      "text/plain": [
       "Output()"
      ]
     },
     "metadata": {},
     "output_type": "display_data"
    }
   ],
   "source": [
    "w0 = widgets.FileUpload(multiple=False)\n",
    "w1 = widgets.RadioButtons(options=['grey','red', 'green', 'blue'],description='Color:',disabled=False)\n",
    "w2 = widgets.IntSlider(value=1, min=1, max=100, step=1, description='Blur:',continuous_update=False)\n",
    "w3 = widgets.Checkbox(value=False, description='Invert image', disabled=False, indent=False)\n",
    "w4 = widgets.ToggleButtons(options=['Cells', 'Gannets', 'Blossoms', 'Cats', 'Trees','Uploaded File'],\n",
    "    description='Images:',\n",
    "    disabled=False)\n",
    "\n",
    "w40 = widgets.VBox([w4,w0])\n",
    "w23 = widgets.VBox([w3,w2])\n",
    "ui = widgets.HBox([w40, w1, w23])\n",
    "out = widgets.interactive_output(manipulate_image, {'upl': w0, 'channel': w1, 'blur': w2, 'inv': w3,'example': w4})\n",
    "\n",
    "display(ui, out)"
   ]
  },
  {
   "cell_type": "markdown",
   "id": "6659b77b",
   "metadata": {},
   "source": [
    "# Persistence diagram\n",
    "\n",
    "The persistence diagram shows how long features survive if a threshold is run through the image. Points at the bottom are very short-lived and essentially noise. If the diagram for your image shows a distinct cloud somewhere above the x-axis, these are the features you might want to find. Use this diagram to select a threshold (Lifetime value) for the next step, so that only features with a lifetime above this threshold are marked below.\n",
    "\n",
    "Every time you change the image above, press the button to generate a new diagram. This is not done automatically, as it might take some time. The next step below uses the diagram, so be sure to generate it before moving the threshold."
   ]
  },
  {
   "cell_type": "code",
   "execution_count": 6,
   "id": "2ff106b0",
   "metadata": {},
   "outputs": [
    {
     "data": {
      "application/vnd.jupyter.widget-view+json": {
       "model_id": "7cc85ca99dd541ec9169e0ee4f0698c0",
       "version_major": 2,
       "version_minor": 0
      },
      "text/plain": [
       "Button(description='Generate new persistence diagram', layout=Layout(height='80px', width='50%'), style=Button…"
      ]
     },
     "metadata": {},
     "output_type": "display_data"
    },
    {
     "data": {
      "application/vnd.jupyter.widget-view+json": {
       "model_id": "9c7482f14e7d4dd7864676de74a4c706",
       "version_major": 2,
       "version_minor": 0
      },
      "text/plain": [
       "Output()"
      ]
     },
     "metadata": {},
     "output_type": "display_data"
    }
   ],
   "source": [
    "button = widgets.Button(description=\"Generate new persistence diagram\",layout=Layout(width='50%', height='80px'))\n",
    "output = widgets.Output()\n",
    "\n",
    "make_diagram(0)\n",
    "\n",
    "\n",
    "display(button, output)\n",
    "\n",
    "button.on_click(make_diagram)"
   ]
  },
  {
   "cell_type": "markdown",
   "id": "b3f9a8bf",
   "metadata": {},
   "source": [
    "# Thresholding\n",
    "\n",
    "Play with the threshold value here to see for which value the algorithm is best. If you changed the image, the new image should appear here if you move the slider. All features above the threshold in the persistence diagram are shown. Set the threshold too low and lots of noise gets selected. The single point on the top always exists and represents the global maximum of the picture (i.e. the brightest pixel)."
   ]
  },
  {
   "cell_type": "code",
   "execution_count": 7,
   "id": "32986536",
   "metadata": {},
   "outputs": [
    {
     "data": {
      "application/vnd.jupyter.widget-view+json": {
       "model_id": "0c6297fcbd0e43f7ad4929100be8548e",
       "version_major": 2,
       "version_minor": 0
      },
      "text/plain": [
       "interactive(children=(IntSlider(value=50, continuous_update=False, description='threshold', max=255, min=1), O…"
      ]
     },
     "metadata": {},
     "output_type": "display_data"
    }
   ],
   "source": [
    "interact(segment,threshold = widgets.IntSlider(value = 50, min = 1, max = 255, continuous_update=False));"
   ]
  },
  {
   "cell_type": "code",
   "execution_count": null,
   "id": "39142888",
   "metadata": {},
   "outputs": [],
   "source": []
  },
  {
   "cell_type": "code",
   "execution_count": null,
   "id": "b1b328a4",
   "metadata": {},
   "outputs": [],
   "source": []
  },
  {
   "cell_type": "code",
   "execution_count": null,
   "id": "1ce2250c",
   "metadata": {},
   "outputs": [],
   "source": [
    "\n"
   ]
  }
 ],
 "metadata": {
  "kernelspec": {
   "display_name": "Python 3",
   "language": "python",
   "name": "python3"
  },
  "language_info": {
   "codemirror_mode": {
    "name": "ipython",
    "version": 3
   },
   "file_extension": ".py",
   "mimetype": "text/x-python",
   "name": "python",
   "nbconvert_exporter": "python",
   "pygments_lexer": "ipython3",
   "version": "3.8.10"
  }
 },
 "nbformat": 4,
 "nbformat_minor": 5
}
